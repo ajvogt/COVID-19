{
 "cells": [
  {
   "cell_type": "code",
   "execution_count": 1,
   "metadata": {},
   "outputs": [],
   "source": [
    "import os\n",
    "\n",
    "import numpy as np\n",
    "import pandas as pd\n",
    "import matplotlib.pyplot as plt\n",
    "\n",
    "plt.style.use('fivethirtyeight')"
   ]
  },
  {
   "cell_type": "code",
   "execution_count": 2,
   "metadata": {},
   "outputs": [
    {
     "data": {
      "text/plain": [
       "'C:\\\\Users\\\\Mickey Vogt\\\\Documents\\\\adams-docs\\\\adams-projects\\\\COVID-19\\\\ajvogt-analysis'"
      ]
     },
     "execution_count": 2,
     "metadata": {},
     "output_type": "execute_result"
    }
   ],
   "source": [
    "os.getcwd()"
   ]
  },
  {
   "cell_type": "code",
   "execution_count": 3,
   "metadata": {},
   "outputs": [
    {
     "name": "stdout",
     "output_type": "stream",
     "text": [
      "['.gitignore', 'Errata.csv', 'README.md', 'time_series_covid19_confirmed_global.csv', 'time_series_covid19_confirmed_US.csv', 'time_series_covid19_deaths_global.csv', 'time_series_covid19_deaths_US.csv', 'time_series_covid19_recovered_global.csv']\n",
      "(3261, 133)\n",
      "   UID iso2 iso3  code3  FIPS Admin2            Province_State Country_Region  \\\n",
      "0   16   AS  ASM     16  60.0    NaN            American Samoa             US   \n",
      "1  316   GU  GUM    316  66.0    NaN                      Guam             US   \n",
      "2  580   MP  MNP    580  69.0    NaN  Northern Mariana Islands             US   \n",
      "3  630   PR  PRI    630  72.0    NaN               Puerto Rico             US   \n",
      "4  850   VI  VIR    850  78.0    NaN            Virgin Islands             US   \n",
      "\n",
      "       Lat     Long_  ... 5/13/20  5/14/20  5/15/20  5/16/20  5/17/20  \\\n",
      "0 -14.2710 -170.1320  ...       0        0        0        0        0   \n",
      "1  13.4443  144.7937  ...     152      152      154      154      154   \n",
      "2  15.0979  145.6739  ...      19       19       19       21       21   \n",
      "3  18.2208  -66.5901  ...    2329     2427     2542     2589     2646   \n",
      "4  18.3358  -64.8963  ...      69       69       69       69       69   \n",
      "\n",
      "   5/18/20  5/19/20  5/20/20  5/21/20  5/22/20  \n",
      "0        0        0        0        0        0  \n",
      "1      154      154      154      165      165  \n",
      "2       21       21       21       22       22  \n",
      "3     2710     2805     2866     2913     3030  \n",
      "4       69       69       69       69       69  \n",
      "\n",
      "[5 rows x 133 columns]\n"
     ]
    }
   ],
   "source": [
    "path = '../csse_covid_19_data/csse_covid_19_time_series/'\n",
    "print(os.listdir(path))\n",
    "df = pd.read_csv(path+'time_series_covid19_confirmed_US.csv')\n",
    "print(df.shape)\n",
    "print(df.head())"
   ]
  },
  {
   "cell_type": "code",
   "execution_count": 4,
   "metadata": {},
   "outputs": [
    {
     "data": {
      "text/plain": [
       "array(['Adair', 'Andrew', 'Atchison', 'Audrain', 'Barry', 'Barton',\n",
       "       'Bates', 'Benton', 'Bollinger', 'Boone', 'Buchanan', 'Butler',\n",
       "       'Caldwell', 'Callaway', 'Camden', 'Cape Girardeau', 'Carroll',\n",
       "       'Carter', 'Cass', 'Cedar', 'Chariton', 'Christian', 'Clark',\n",
       "       'Clay', 'Clinton', 'Cole', 'Cooper', 'Crawford', 'Dade', 'Dallas',\n",
       "       'Daviess', 'DeKalb', 'Dent', 'Douglas', 'Dunklin', 'Franklin',\n",
       "       'Gasconade', 'Gentry', 'Greene', 'Grundy', 'Harrison', 'Henry',\n",
       "       'Hickory', 'Holt', 'Howard', 'Howell', 'Iron', 'Jackson', 'Jasper',\n",
       "       'Jefferson', 'Johnson', 'Knox', 'Laclede', 'Lafayette', 'Lawrence',\n",
       "       'Lewis', 'Lincoln', 'Linn', 'Livingston', 'McDonald', 'Macon',\n",
       "       'Madison', 'Maries', 'Marion', 'Mercer', 'Miller', 'Mississippi',\n",
       "       'Moniteau', 'Monroe', 'Montgomery', 'Morgan', 'New Madrid',\n",
       "       'Newton', 'Nodaway', 'Oregon', 'Osage', 'Ozark', 'Pemiscot',\n",
       "       'Perry', 'Pettis', 'Phelps', 'Pike', 'Platte', 'Polk', 'Pulaski',\n",
       "       'Putnam', 'Ralls', 'Randolph', 'Ray', 'Reynolds', 'Ripley',\n",
       "       'St. Charles', 'St. Clair', 'Ste. Genevieve', 'St. Francois',\n",
       "       'St. Louis', 'Saline', 'Schuyler', 'Scotland', 'Scott', 'Shannon',\n",
       "       'Shelby', 'Stoddard', 'Stone', 'Sullivan', 'Taney', 'Texas',\n",
       "       'Vernon', 'Warren', 'Washington', 'Wayne', 'Webster', 'Worth',\n",
       "       'Wright', 'St. Louis City', 'Out of MO', 'Unassigned',\n",
       "       'Kansas City'], dtype=object)"
      ]
     },
     "execution_count": 4,
     "metadata": {},
     "output_type": "execute_result"
    }
   ],
   "source": [
    "df[df.Province_State == 'Missouri'].Admin2.unique()"
   ]
  },
  {
   "cell_type": "code",
   "execution_count": 5,
   "metadata": {},
   "outputs": [
    {
     "data": {
      "image/png": "[encoded data removed]",
      "text/plain": [
       "<Figure size 432x288 with 1 Axes>"
      ]
     },
     "metadata": {},
     "output_type": "display_data"
    }
   ],
   "source": [
    "counties = ['St. Louis', 'St. Louis City', 'St. Charles', 'Franklin', 'Jefferson']\n",
    "cond = (df.Province_State == 'Missouri')&\\\n",
    "       (df.Admin2.isin(counties))\n",
    "df[cond].iloc[:, 11:]\n",
    "xlabels = df.iloc[:, 11:].columns\n",
    "xticks = np.arange(0, xlabels.shape[0], 1)\n",
    "y = df[cond].iloc[:, 11:].sum(axis=0).diff()\n",
    "plt.bar(xticks, y)\n",
    "steps = np.arange(0, xticks.shape[0], 5)\n",
    "plt.xticks(xticks[steps], xlabels[steps], rotation=90)\n",
    "plt.show()\n"
   ]
  },
  {
   "cell_type": "code",
   "execution_count": 6,
   "metadata": {},
   "outputs": [
    {
     "data": {
      "text/html": [
       "<div>\n",
       "<style scoped>\n",
       "    .dataframe tbody tr th:only-of-type {\n",
       "        vertical-align: middle;\n",
       "    }\n",
       "\n",
       "    .dataframe tbody tr th {\n",
       "        vertical-align: top;\n",
       "    }\n",
       "\n",
       "    .dataframe thead th {\n",
       "        text-align: right;\n",
       "    }\n",
       "</style>\n",
       "<table border=\"1\" class=\"dataframe\">\n",
       "  <thead>\n",
       "    <tr style=\"text-align: right;\">\n",
       "      <th></th>\n",
       "      <th>UID</th>\n",
       "      <th>iso2</th>\n",
       "      <th>iso3</th>\n",
       "      <th>code3</th>\n",
       "      <th>FIPS</th>\n",
       "      <th>Admin2</th>\n",
       "      <th>Province_State</th>\n",
       "      <th>Country_Region</th>\n",
       "      <th>Lat</th>\n",
       "      <th>Long_</th>\n",
       "      <th>...</th>\n",
       "      <th>5/13/20</th>\n",
       "      <th>5/14/20</th>\n",
       "      <th>5/15/20</th>\n",
       "      <th>5/16/20</th>\n",
       "      <th>5/17/20</th>\n",
       "      <th>5/18/20</th>\n",
       "      <th>5/19/20</th>\n",
       "      <th>5/20/20</th>\n",
       "      <th>5/21/20</th>\n",
       "      <th>5/22/20</th>\n",
       "    </tr>\n",
       "  </thead>\n",
       "  <tbody>\n",
       "    <tr>\n",
       "      <th>1523</th>\n",
       "      <td>84029071</td>\n",
       "      <td>US</td>\n",
       "      <td>USA</td>\n",
       "      <td>840</td>\n",
       "      <td>29071.0</td>\n",
       "      <td>Franklin</td>\n",
       "      <td>Missouri</td>\n",
       "      <td>US</td>\n",
       "      <td>38.411271</td>\n",
       "      <td>-91.075228</td>\n",
       "      <td>...</td>\n",
       "      <td>133</td>\n",
       "      <td>134</td>\n",
       "      <td>134</td>\n",
       "      <td>134</td>\n",
       "      <td>134</td>\n",
       "      <td>135</td>\n",
       "      <td>135</td>\n",
       "      <td>136</td>\n",
       "      <td>137</td>\n",
       "      <td>137</td>\n",
       "    </tr>\n",
       "    <tr>\n",
       "      <th>1537</th>\n",
       "      <td>84029099</td>\n",
       "      <td>US</td>\n",
       "      <td>USA</td>\n",
       "      <td>840</td>\n",
       "      <td>29099.0</td>\n",
       "      <td>Jefferson</td>\n",
       "      <td>Missouri</td>\n",
       "      <td>US</td>\n",
       "      <td>38.259268</td>\n",
       "      <td>-90.538709</td>\n",
       "      <td>...</td>\n",
       "      <td>314</td>\n",
       "      <td>316</td>\n",
       "      <td>318</td>\n",
       "      <td>326</td>\n",
       "      <td>328</td>\n",
       "      <td>330</td>\n",
       "      <td>331</td>\n",
       "      <td>331</td>\n",
       "      <td>333</td>\n",
       "      <td>334</td>\n",
       "    </tr>\n",
       "    <tr>\n",
       "      <th>1579</th>\n",
       "      <td>84029183</td>\n",
       "      <td>US</td>\n",
       "      <td>USA</td>\n",
       "      <td>840</td>\n",
       "      <td>29183.0</td>\n",
       "      <td>St. Charles</td>\n",
       "      <td>Missouri</td>\n",
       "      <td>US</td>\n",
       "      <td>38.778757</td>\n",
       "      <td>-90.666624</td>\n",
       "      <td>...</td>\n",
       "      <td>680</td>\n",
       "      <td>688</td>\n",
       "      <td>688</td>\n",
       "      <td>688</td>\n",
       "      <td>695</td>\n",
       "      <td>704</td>\n",
       "      <td>712</td>\n",
       "      <td>712</td>\n",
       "      <td>712</td>\n",
       "      <td>722</td>\n",
       "    </tr>\n",
       "    <tr>\n",
       "      <th>1583</th>\n",
       "      <td>84029189</td>\n",
       "      <td>US</td>\n",
       "      <td>USA</td>\n",
       "      <td>840</td>\n",
       "      <td>29189.0</td>\n",
       "      <td>St. Louis</td>\n",
       "      <td>Missouri</td>\n",
       "      <td>US</td>\n",
       "      <td>38.637700</td>\n",
       "      <td>-90.445837</td>\n",
       "      <td>...</td>\n",
       "      <td>4022</td>\n",
       "      <td>4104</td>\n",
       "      <td>4172</td>\n",
       "      <td>4236</td>\n",
       "      <td>4287</td>\n",
       "      <td>4324</td>\n",
       "      <td>4374</td>\n",
       "      <td>4410</td>\n",
       "      <td>4472</td>\n",
       "      <td>4472</td>\n",
       "    </tr>\n",
       "    <tr>\n",
       "      <th>1602</th>\n",
       "      <td>84029510</td>\n",
       "      <td>US</td>\n",
       "      <td>USA</td>\n",
       "      <td>840</td>\n",
       "      <td>29510.0</td>\n",
       "      <td>St. Louis City</td>\n",
       "      <td>Missouri</td>\n",
       "      <td>US</td>\n",
       "      <td>38.635557</td>\n",
       "      <td>-90.243492</td>\n",
       "      <td>...</td>\n",
       "      <td>1571</td>\n",
       "      <td>1596</td>\n",
       "      <td>1602</td>\n",
       "      <td>1631</td>\n",
       "      <td>1654</td>\n",
       "      <td>1682</td>\n",
       "      <td>1705</td>\n",
       "      <td>1717</td>\n",
       "      <td>1744</td>\n",
       "      <td>1763</td>\n",
       "    </tr>\n",
       "  </tbody>\n",
       "</table>\n",
       "<p>5 rows × 133 columns</p>\n",
       "</div>"
      ],
      "text/plain": [
       "           UID iso2 iso3  code3     FIPS          Admin2 Province_State  \\\n",
       "1523  84029071   US  USA    840  29071.0        Franklin       Missouri   \n",
       "1537  84029099   US  USA    840  29099.0       Jefferson       Missouri   \n",
       "1579  84029183   US  USA    840  29183.0     St. Charles       Missouri   \n",
       "1583  84029189   US  USA    840  29189.0       St. Louis       Missouri   \n",
       "1602  84029510   US  USA    840  29510.0  St. Louis City       Missouri   \n",
       "\n",
       "     Country_Region        Lat      Long_  ... 5/13/20  5/14/20  5/15/20  \\\n",
       "1523             US  38.411271 -91.075228  ...     133      134      134   \n",
       "1537             US  38.259268 -90.538709  ...     314      316      318   \n",
       "1579             US  38.778757 -90.666624  ...     680      688      688   \n",
       "1583             US  38.637700 -90.445837  ...    4022     4104     4172   \n",
       "1602             US  38.635557 -90.243492  ...    1571     1596     1602   \n",
       "\n",
       "      5/16/20  5/17/20  5/18/20  5/19/20  5/20/20  5/21/20  5/22/20  \n",
       "1523      134      134      135      135      136      137      137  \n",
       "1537      326      328      330      331      331      333      334  \n",
       "1579      688      695      704      712      712      712      722  \n",
       "1583     4236     4287     4324     4374     4410     4472     4472  \n",
       "1602     1631     1654     1682     1705     1717     1744     1763  \n",
       "\n",
       "[5 rows x 133 columns]"
      ]
     },
     "execution_count": 6,
     "metadata": {},
     "output_type": "execute_result"
    }
   ],
   "source": [
    "df[cond].iloc[:]"
   ]
  },
  {
   "cell_type": "code",
   "execution_count": null,
   "metadata": {},
   "outputs": [],
   "source": []
  }
 ],
 "metadata": {
  "kernelspec": {
   "display_name": "Python 3",
   "language": "python",
   "name": "python3"
  },
  "language_info": {
   "codemirror_mode": {
    "name": "ipython",
    "version": 3
   },
   "file_extension": ".py",
   "mimetype": "text/x-python",
   "name": "python",
   "nbconvert_exporter": "python",
   "pygments_lexer": "ipython3",
   "version": "3.7.4"
  }
 },
 "nbformat": 4,
 "nbformat_minor": 4
}
