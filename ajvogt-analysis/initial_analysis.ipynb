{
 "cells": [
  {
   "cell_type": "code",
   "execution_count": 2,
   "metadata": {},
   "outputs": [],
   "source": [
    "import os\n",
    "\n",
    "import numpy as np\n",
    "import pandas as pd\n",
    "import matplotlib.pyplot as plt\n",
    "\n",
    "plt.style.use('fivethirtyeight')"
   ]
  },
  {
   "cell_type": "code",
   "execution_count": 3,
   "metadata": {},
   "outputs": [
    {
     "data": {
      "text/plain": [
       "'C:\\\\Users\\\\Mickey Vogt\\\\Documents\\\\adams-docs\\\\adams-projects\\\\COVID-19\\\\ajvogt-analysis'"
      ]
     },
     "execution_count": 3,
     "metadata": {},
     "output_type": "execute_result"
    }
   ],
   "source": [
    "os.getcwd()"
   ]
  },
  {
   "cell_type": "code",
   "execution_count": 4,
   "metadata": {},
   "outputs": [
    {
     "name": "stdout",
     "output_type": "stream",
     "text": [
      "(3261, 127)\n",
      "   UID iso2 iso3  code3  FIPS Admin2            Province_State Country_Region  \\\n",
      "0   16   AS  ASM     16  60.0    NaN            American Samoa             US   \n",
      "1  316   GU  GUM    316  66.0    NaN                      Guam             US   \n",
      "2  580   MP  MNP    580  69.0    NaN  Northern Mariana Islands             US   \n",
      "3  630   PR  PRI    630  72.0    NaN               Puerto Rico             US   \n",
      "4  850   VI  VIR    850  78.0    NaN            Virgin Islands             US   \n",
      "\n",
      "       Lat     Long_  ... 5/7/20  5/8/20  5/9/20  5/10/20  5/11/20  5/12/20  \\\n",
      "0 -14.2710 -170.1320  ...      0       0       0        0        0        0   \n",
      "1  13.4443  144.7937  ...    149     151     151      151      151      152   \n",
      "2  15.0979  145.6739  ...     15      15      16       16       19       19   \n",
      "3  18.2208  -66.5901  ...   2031    2156    2173     2198     2256     2299   \n",
      "4  18.3358  -64.8963  ...     66      68      68       69       69       69   \n",
      "\n",
      "   5/13/20  5/14/20  5/15/20  5/16/20  \n",
      "0        0        0        0        0  \n",
      "1      152      152      154      154  \n",
      "2       19       19       19       21  \n",
      "3     2329     2427     2542     2589  \n",
      "4       69       69       69       69  \n",
      "\n",
      "[5 rows x 127 columns]\n"
     ]
    }
   ],
   "source": [
    "path = '../csse_covid_19_data/csse_covid_19_time_series/'\n",
    "df = pd.read_csv(path+'time_series_covid19_confirmed_US.csv')\n",
    "print(df.shape)\n",
    "print(df.head())"
   ]
  },
  {
   "cell_type": "code",
   "execution_count": 5,
   "metadata": {},
   "outputs": [
    {
     "name": "stdout",
     "output_type": "stream",
     "text": [
      "<class 'pandas.core.frame.DataFrame'>\n",
      "RangeIndex: 3261 entries, 0 to 3260\n",
      "Data columns (total 127 columns):\n",
      " #   Column          Dtype  \n",
      "---  ------          -----  \n",
      " 0   UID             int64  \n",
      " 1   iso2            object \n",
      " 2   iso3            object \n",
      " 3   code3           int64  \n",
      " 4   FIPS            float64\n",
      " 5   Admin2          object \n",
      " 6   Province_State  object \n",
      " 7   Country_Region  object \n",
      " 8   Lat             float64\n",
      " 9   Long_           float64\n",
      " 10  Combined_Key    object \n",
      " 11  1/22/20         int64  \n",
      " 12  1/23/20         int64  \n",
      " 13  1/24/20         int64  \n",
      " 14  1/25/20         int64  \n",
      " 15  1/26/20         int64  \n",
      " 16  1/27/20         int64  \n",
      " 17  1/28/20         int64  \n",
      " 18  1/29/20         int64  \n",
      " 19  1/30/20         int64  \n",
      " 20  1/31/20         int64  \n",
      " 21  2/1/20          int64  \n",
      " 22  2/2/20          int64  \n",
      " 23  2/3/20          int64  \n",
      " 24  2/4/20          int64  \n",
      " 25  2/5/20          int64  \n",
      " 26  2/6/20          int64  \n",
      " 27  2/7/20          int64  \n",
      " 28  2/8/20          int64  \n",
      " 29  2/9/20          int64  \n",
      " 30  2/10/20         int64  \n",
      " 31  2/11/20         int64  \n",
      " 32  2/12/20         int64  \n",
      " 33  2/13/20         int64  \n",
      " 34  2/14/20         int64  \n",
      " 35  2/15/20         int64  \n",
      " 36  2/16/20         int64  \n",
      " 37  2/17/20         int64  \n",
      " 38  2/18/20         int64  \n",
      " 39  2/19/20         int64  \n",
      " 40  2/20/20         int64  \n",
      " 41  2/21/20         int64  \n",
      " 42  2/22/20         int64  \n",
      " 43  2/23/20         int64  \n",
      " 44  2/24/20         int64  \n",
      " 45  2/25/20         int64  \n",
      " 46  2/26/20         int64  \n",
      " 47  2/27/20         int64  \n",
      " 48  2/28/20         int64  \n",
      " 49  2/29/20         int64  \n",
      " 50  3/1/20          int64  \n",
      " 51  3/2/20          int64  \n",
      " 52  3/3/20          int64  \n",
      " 53  3/4/20          int64  \n",
      " 54  3/5/20          int64  \n",
      " 55  3/6/20          int64  \n",
      " 56  3/7/20          int64  \n",
      " 57  3/8/20          int64  \n",
      " 58  3/9/20          int64  \n",
      " 59  3/10/20         int64  \n",
      " 60  3/11/20         int64  \n",
      " 61  3/12/20         int64  \n",
      " 62  3/13/20         int64  \n",
      " 63  3/14/20         int64  \n",
      " 64  3/15/20         int64  \n",
      " 65  3/16/20         int64  \n",
      " 66  3/17/20         int64  \n",
      " 67  3/18/20         int64  \n",
      " 68  3/19/20         int64  \n",
      " 69  3/20/20         int64  \n",
      " 70  3/21/20         int64  \n",
      " 71  3/22/20         int64  \n",
      " 72  3/23/20         int64  \n",
      " 73  3/24/20         int64  \n",
      " 74  3/25/20         int64  \n",
      " 75  3/26/20         int64  \n",
      " 76  3/27/20         int64  \n",
      " 77  3/28/20         int64  \n",
      " 78  3/29/20         int64  \n",
      " 79  3/30/20         int64  \n",
      " 80  3/31/20         int64  \n",
      " 81  4/1/20          int64  \n",
      " 82  4/2/20          int64  \n",
      " 83  4/3/20          int64  \n",
      " 84  4/4/20          int64  \n",
      " 85  4/5/20          int64  \n",
      " 86  4/6/20          int64  \n",
      " 87  4/7/20          int64  \n",
      " 88  4/8/20          int64  \n",
      " 89  4/9/20          int64  \n",
      " 90  4/10/20         int64  \n",
      " 91  4/11/20         int64  \n",
      " 92  4/12/20         int64  \n",
      " 93  4/13/20         int64  \n",
      " 94  4/14/20         int64  \n",
      " 95  4/15/20         int64  \n",
      " 96  4/16/20         int64  \n",
      " 97  4/17/20         int64  \n",
      " 98  4/18/20         int64  \n",
      " 99  4/19/20         int64  \n",
      " 100 4/20/20         int64  \n",
      " 101 4/21/20         int64  \n",
      " 102 4/22/20         int64  \n",
      " 103 4/23/20         int64  \n",
      " 104 4/24/20         int64  \n",
      " 105 4/25/20         int64  \n",
      " 106 4/26/20         int64  \n",
      " 107 4/27/20         int64  \n",
      " 108 4/28/20         int64  \n",
      " 109 4/29/20         int64  \n",
      " 110 4/30/20         int64  \n",
      " 111 5/1/20          int64  \n",
      " 112 5/2/20          int64  \n",
      " 113 5/3/20          int64  \n",
      " 114 5/4/20          int64  \n",
      " 115 5/5/20          int64  \n",
      " 116 5/6/20          int64  \n",
      " 117 5/7/20          int64  \n",
      " 118 5/8/20          int64  \n",
      " 119 5/9/20          int64  \n",
      " 120 5/10/20         int64  \n",
      " 121 5/11/20         int64  \n",
      " 122 5/12/20         int64  \n",
      " 123 5/13/20         int64  \n",
      " 124 5/14/20         int64  \n",
      " 125 5/15/20         int64  \n",
      " 126 5/16/20         int64  \n",
      "dtypes: float64(3), int64(118), object(6)\n",
      "memory usage: 3.1+ MB\n"
     ]
    }
   ],
   "source": [
    "df.info(verbose=True)"
   ]
  },
  {
   "cell_type": "code",
   "execution_count": 8,
   "metadata": {},
   "outputs": [
    {
     "data": {
      "text/plain": [
       "array(['Adair', 'Andrew', 'Atchison', 'Audrain', 'Barry', 'Barton',\n",
       "       'Bates', 'Benton', 'Bollinger', 'Boone', 'Buchanan', 'Butler',\n",
       "       'Caldwell', 'Callaway', 'Camden', 'Cape Girardeau', 'Carroll',\n",
       "       'Carter', 'Cass', 'Cedar', 'Chariton', 'Christian', 'Clark',\n",
       "       'Clay', 'Clinton', 'Cole', 'Cooper', 'Crawford', 'Dade', 'Dallas',\n",
       "       'Daviess', 'DeKalb', 'Dent', 'Douglas', 'Dunklin', 'Franklin',\n",
       "       'Gasconade', 'Gentry', 'Greene', 'Grundy', 'Harrison', 'Henry',\n",
       "       'Hickory', 'Holt', 'Howard', 'Howell', 'Iron', 'Jackson', 'Jasper',\n",
       "       'Jefferson', 'Johnson', 'Knox', 'Laclede', 'Lafayette', 'Lawrence',\n",
       "       'Lewis', 'Lincoln', 'Linn', 'Livingston', 'McDonald', 'Macon',\n",
       "       'Madison', 'Maries', 'Marion', 'Mercer', 'Miller', 'Mississippi',\n",
       "       'Moniteau', 'Monroe', 'Montgomery', 'Morgan', 'New Madrid',\n",
       "       'Newton', 'Nodaway', 'Oregon', 'Osage', 'Ozark', 'Pemiscot',\n",
       "       'Perry', 'Pettis', 'Phelps', 'Pike', 'Platte', 'Polk', 'Pulaski',\n",
       "       'Putnam', 'Ralls', 'Randolph', 'Ray', 'Reynolds', 'Ripley',\n",
       "       'St. Charles', 'St. Clair', 'Ste. Genevieve', 'St. Francois',\n",
       "       'St. Louis', 'Saline', 'Schuyler', 'Scotland', 'Scott', 'Shannon',\n",
       "       'Shelby', 'Stoddard', 'Stone', 'Sullivan', 'Taney', 'Texas',\n",
       "       'Vernon', 'Warren', 'Washington', 'Wayne', 'Webster', 'Worth',\n",
       "       'Wright', 'St. Louis City', 'Kansas City', 'Out of MO',\n",
       "       'Unassigned'], dtype=object)"
      ]
     },
     "execution_count": 8,
     "metadata": {},
     "output_type": "execute_result"
    }
   ],
   "source": [
    "df[df.Province_State == 'Missouri'].Admin2.unique()"
   ]
  },
  {
   "cell_type": "code",
   "execution_count": 22,
   "metadata": {},
   "outputs": [
    {
     "data": {
      "image/png": "[encoded data removed]",
      "text/plain": [
       "<Figure size 432x288 with 1 Axes>"
      ]
     },
     "metadata": {},
     "output_type": "display_data"
    }
   ],
   "source": [
    "counties = ['St. Louis', 'St. Louis City', 'St. Charles', 'Franklin', 'Jefferson']\n",
    "cond = (df.Province_State == 'Missouri')&\\\n",
    "       (df.Admin2.isin(counties))\n",
    "df[cond].iloc[:, 11:]\n",
    "xlabels = df.iloc[:, 11:].columns\n",
    "xticks = np.arange(0, xticks.shape[0], 1)\n",
    "y = df[cond].iloc[:, 11:].sum(axis=0).diff()\n",
    "plt.bar(xticks, y)\n",
    "steps = np.arange(0, xticks.shape[0], 5)\n",
    "plt.xticks(xticks[steps], xlabels[steps], rotation=-45)\n",
    "plt.show()\n"
   ]
  },
  {
   "cell_type": "code",
   "execution_count": 28,
   "metadata": {},
   "outputs": [
    {
     "data": {
      "text/html": [
       "<div>\n",
       "<style scoped>\n",
       "    .dataframe tbody tr th:only-of-type {\n",
       "        vertical-align: middle;\n",
       "    }\n",
       "\n",
       "    .dataframe tbody tr th {\n",
       "        vertical-align: top;\n",
       "    }\n",
       "\n",
       "    .dataframe thead th {\n",
       "        text-align: right;\n",
       "    }\n",
       "</style>\n",
       "<table border=\"1\" class=\"dataframe\">\n",
       "  <thead>\n",
       "    <tr style=\"text-align: right;\">\n",
       "      <th></th>\n",
       "      <th>1/22/20</th>\n",
       "      <th>1/23/20</th>\n",
       "      <th>1/24/20</th>\n",
       "      <th>1/25/20</th>\n",
       "      <th>1/26/20</th>\n",
       "      <th>1/27/20</th>\n",
       "      <th>1/28/20</th>\n",
       "      <th>1/29/20</th>\n",
       "      <th>1/30/20</th>\n",
       "      <th>1/31/20</th>\n",
       "      <th>...</th>\n",
       "      <th>5/7/20</th>\n",
       "      <th>5/8/20</th>\n",
       "      <th>5/9/20</th>\n",
       "      <th>5/10/20</th>\n",
       "      <th>5/11/20</th>\n",
       "      <th>5/12/20</th>\n",
       "      <th>5/13/20</th>\n",
       "      <th>5/14/20</th>\n",
       "      <th>5/15/20</th>\n",
       "      <th>5/16/20</th>\n",
       "    </tr>\n",
       "  </thead>\n",
       "  <tbody>\n",
       "    <tr>\n",
       "      <th>1583</th>\n",
       "      <td>0</td>\n",
       "      <td>0</td>\n",
       "      <td>0</td>\n",
       "      <td>0</td>\n",
       "      <td>0</td>\n",
       "      <td>0</td>\n",
       "      <td>0</td>\n",
       "      <td>0</td>\n",
       "      <td>0</td>\n",
       "      <td>0</td>\n",
       "      <td>...</td>\n",
       "      <td>3724</td>\n",
       "      <td>3792</td>\n",
       "      <td>3864</td>\n",
       "      <td>3932</td>\n",
       "      <td>3951</td>\n",
       "      <td>3986</td>\n",
       "      <td>4022</td>\n",
       "      <td>4104</td>\n",
       "      <td>4172</td>\n",
       "      <td>4236</td>\n",
       "    </tr>\n",
       "  </tbody>\n",
       "</table>\n",
       "<p>1 rows × 116 columns</p>\n",
       "</div>"
      ],
      "text/plain": [
       "      1/22/20  1/23/20  1/24/20  1/25/20  1/26/20  1/27/20  1/28/20  1/29/20  \\\n",
       "1583        0        0        0        0        0        0        0        0   \n",
       "\n",
       "      1/30/20  1/31/20  ...  5/7/20  5/8/20  5/9/20  5/10/20  5/11/20  \\\n",
       "1583        0        0  ...    3724    3792    3864     3932     3951   \n",
       "\n",
       "      5/12/20  5/13/20  5/14/20  5/15/20  5/16/20  \n",
       "1583     3986     4022     4104     4172     4236  \n",
       "\n",
       "[1 rows x 116 columns]"
      ]
     },
     "execution_count": 28,
     "metadata": {},
     "output_type": "execute_result"
    }
   ],
   "source": [
    "df[cond].iloc[:, 11:]"
   ]
  },
  {
   "cell_type": "code",
   "execution_count": null,
   "metadata": {},
   "outputs": [],
   "source": []
  }
 ],
 "metadata": {
  "kernelspec": {
   "display_name": "Python 3",
   "language": "python",
   "name": "python3"
  },
  "language_info": {
   "codemirror_mode": {
    "name": "ipython",
    "version": 3
   },
   "file_extension": ".py",
   "mimetype": "text/x-python",
   "name": "python",
   "nbconvert_exporter": "python",
   "pygments_lexer": "ipython3",
   "version": "3.7.4"
  }
 },
 "nbformat": 4,
 "nbformat_minor": 4
}
